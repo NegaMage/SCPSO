{
 "cells": [
  {
   "cell_type": "code",
   "execution_count": null,
   "metadata": {},
   "outputs": [],
   "source": [
    "import pandas as pd\n",
    "import numpy as np\n",
    "import matplotlib.pyplot as plt\n",
    "%matplotlib inline"
   ]
  },
  {
   "cell_type": "code",
   "execution_count": 4,
   "metadata": {},
   "outputs": [
    {
     "data": {
      "text/html": [
       "<div>\n",
       "<style scoped>\n",
       "    .dataframe tbody tr th:only-of-type {\n",
       "        vertical-align: middle;\n",
       "    }\n",
       "\n",
       "    .dataframe tbody tr th {\n",
       "        vertical-align: top;\n",
       "    }\n",
       "\n",
       "    .dataframe thead th {\n",
       "        text-align: right;\n",
       "    }\n",
       "</style>\n",
       "<table border=\"1\" class=\"dataframe\">\n",
       "  <thead>\n",
       "    <tr style=\"text-align: right;\">\n",
       "      <th></th>\n",
       "      <th>0</th>\n",
       "      <th>1</th>\n",
       "      <th>2</th>\n",
       "      <th>3</th>\n",
       "      <th>4</th>\n",
       "      <th>5</th>\n",
       "      <th>6</th>\n",
       "      <th>7</th>\n",
       "    </tr>\n",
       "  </thead>\n",
       "  <tbody>\n",
       "    <tr>\n",
       "      <th>0</th>\n",
       "      <td>15.26</td>\n",
       "      <td>14.84</td>\n",
       "      <td>0.8710</td>\n",
       "      <td>5.763</td>\n",
       "      <td>3.312</td>\n",
       "      <td>2.221</td>\n",
       "      <td>5.220</td>\n",
       "      <td>1</td>\n",
       "    </tr>\n",
       "    <tr>\n",
       "      <th>1</th>\n",
       "      <td>14.88</td>\n",
       "      <td>14.57</td>\n",
       "      <td>0.8811</td>\n",
       "      <td>5.554</td>\n",
       "      <td>3.333</td>\n",
       "      <td>1.018</td>\n",
       "      <td>4.956</td>\n",
       "      <td>1</td>\n",
       "    </tr>\n",
       "    <tr>\n",
       "      <th>2</th>\n",
       "      <td>14.29</td>\n",
       "      <td>14.09</td>\n",
       "      <td>0.9050</td>\n",
       "      <td>5.291</td>\n",
       "      <td>3.337</td>\n",
       "      <td>2.699</td>\n",
       "      <td>4.825</td>\n",
       "      <td>1</td>\n",
       "    </tr>\n",
       "    <tr>\n",
       "      <th>3</th>\n",
       "      <td>13.84</td>\n",
       "      <td>13.94</td>\n",
       "      <td>0.8955</td>\n",
       "      <td>5.324</td>\n",
       "      <td>3.379</td>\n",
       "      <td>2.259</td>\n",
       "      <td>4.805</td>\n",
       "      <td>1</td>\n",
       "    </tr>\n",
       "    <tr>\n",
       "      <th>4</th>\n",
       "      <td>16.14</td>\n",
       "      <td>14.99</td>\n",
       "      <td>0.9034</td>\n",
       "      <td>5.658</td>\n",
       "      <td>3.562</td>\n",
       "      <td>1.355</td>\n",
       "      <td>5.175</td>\n",
       "      <td>1</td>\n",
       "    </tr>\n",
       "  </tbody>\n",
       "</table>\n",
       "</div>"
      ],
      "text/plain": [
       "       0      1       2      3      4      5      6  7\n",
       "0  15.26  14.84  0.8710  5.763  3.312  2.221  5.220  1\n",
       "1  14.88  14.57  0.8811  5.554  3.333  1.018  4.956  1\n",
       "2  14.29  14.09  0.9050  5.291  3.337  2.699  4.825  1\n",
       "3  13.84  13.94  0.8955  5.324  3.379  2.259  4.805  1\n",
       "4  16.14  14.99  0.9034  5.658  3.562  1.355  5.175  1"
      ]
     },
     "execution_count": 4,
     "metadata": {},
     "output_type": "execute_result"
    }
   ],
   "source": [
    "data = pd.read_csv('seed.txt', sep='\\t', header=None)\n",
    "data.head()"
   ]
  },
  {
   "cell_type": "code",
   "execution_count": 8,
   "metadata": {},
   "outputs": [],
   "source": [
    "from pso import ParticleSwarmOptimizedClustering\n",
    "from particle import quantization_error, calc_sse\n",
    "from utils import normalize\n",
    "from kmeans import KMeans\n",
    "from sklearn.metrics import silhouette_score"
   ]
  },
  {
   "cell_type": "code",
   "execution_count": 9,
   "metadata": {},
   "outputs": [],
   "source": [
    "x = data.drop([7], axis=1)\n",
    "x = x.values\n",
    "x = normalize(x)"
   ]
  },
  {
   "cell_type": "markdown",
   "metadata": {},
   "source": [
    "# K-Means"
   ]
  },
  {
   "cell_type": "code",
   "execution_count": 10,
   "metadata": {},
   "outputs": [],
   "source": [
    "kmeans = KMeans(n_cluster=3, init_pp=False, seed=2018)\n",
    "kmeans.fit(x)"
   ]
  },
  {
   "cell_type": "code",
   "execution_count": 11,
   "metadata": {},
   "outputs": [
    {
     "name": "stdout",
     "output_type": "stream",
     "text": [
      "Silhouette: 0.4221267624201065\n",
      "SSE: 22.026451226606625\n",
      "Quantization: 0.30155146657476695\n"
     ]
    }
   ],
   "source": [
    "predicted_kmeans = kmeans.predict(x)\n",
    "print('Silhouette:', silhouette_score(x, predicted_kmeans))\n",
    "print('SSE:', kmeans.SSE)\n",
    "print('Quantization:', quantization_error(centroids=kmeans.centroid, data=x, labels=predicted_kmeans))"
   ]
  },
  {
   "cell_type": "code",
   "execution_count": 12,
   "metadata": {},
   "outputs": [
    {
     "name": "stdout",
     "output_type": "stream",
     "text": [
      "Silhouette: 0.4221267624201065\n",
      "SSE: 22.024363075666038\n",
      "Quantization: 0.30166461874754386\n"
     ]
    }
   ],
   "source": [
    "kmeans2 = KMeans(n_cluster=3, init_pp=True, seed=2018)\n",
    "kmeans2.fit(x)\n",
    "predicted_kmeans2 = kmeans2.predict(x)\n",
    "print('Silhouette:', silhouette_score(x, predicted_kmeans))\n",
    "print('SSE:', kmeans2.SSE)\n",
    "print('Quantization:', quantization_error(centroids=kmeans2.centroid, data=x, labels=predicted_kmeans2))"
   ]
  },
  {
   "cell_type": "markdown",
   "metadata": {},
   "source": [
    "# PSO"
   ]
  },
  {
   "cell_type": "code",
   "execution_count": 13,
   "metadata": {},
   "outputs": [
    {
     "name": "stderr",
     "output_type": "stream",
     "text": [
      "/home/feyaz/code/particle-swarm-optimized-clustering/particle.py:14: RuntimeWarning: invalid value encountered in double_scalars\n",
      "  dist /= len(idx)\n"
     ]
    }
   ],
   "source": [
    "pso = ParticleSwarmOptimizedClustering(\n",
    "        n_cluster=3, n_particles=10, data=x, hybrid=True, max_iter=2000, print_debug=50)"
   ]
  },
  {
   "cell_type": "code",
   "execution_count": 14,
   "metadata": {},
   "outputs": [
    {
     "name": "stdout",
     "output_type": "stream",
     "text": [
      "Initial global best score 0.30166461874754386\n",
      "Iteration 0001/2000 current gbest score 0.301664618747543856\n",
      "Iteration 0051/2000 current gbest score 0.301485499042801475\n",
      "Iteration 0101/2000 current gbest score 0.301369509078166564\n",
      "Iteration 0151/2000 current gbest score 0.301219075592380203\n",
      "Iteration 0201/2000 current gbest score 0.301190438204482991\n",
      "Iteration 0251/2000 current gbest score 0.301181630195897831\n",
      "Iteration 0301/2000 current gbest score 0.301179044034220078\n",
      "Iteration 0351/2000 current gbest score 0.301178481146949339\n",
      "Iteration 0401/2000 current gbest score 0.301178402549978352\n",
      "Iteration 0451/2000 current gbest score 0.301178376334236997\n",
      "Iteration 0501/2000 current gbest score 0.301178348964677989\n",
      "Iteration 0551/2000 current gbest score 0.301178341584707743\n",
      "Iteration 0601/2000 current gbest score 0.301178339069568979\n",
      "Iteration 0651/2000 current gbest score 0.301178337911871818\n",
      "Iteration 0701/2000 current gbest score 0.301178337409410135\n",
      "Iteration 0751/2000 current gbest score 0.301178337176117750\n",
      "Iteration 0801/2000 current gbest score 0.301178337069008928\n",
      "Iteration 0851/2000 current gbest score 0.301178337045046762\n",
      "Iteration 0901/2000 current gbest score 0.301178337036956456\n",
      "Iteration 0951/2000 current gbest score 0.301178337033493115\n",
      "Iteration 1001/2000 current gbest score 0.301178337031062560\n",
      "Iteration 1051/2000 current gbest score 0.301178337029094356\n",
      "Iteration 1101/2000 current gbest score 0.301178337028432719\n",
      "Iteration 1151/2000 current gbest score 0.301178337028279841\n",
      "Iteration 1201/2000 current gbest score 0.301178337028234877\n",
      "Iteration 1251/2000 current gbest score 0.301178337028203791\n",
      "Iteration 1301/2000 current gbest score 0.301178337028188248\n",
      "Iteration 1351/2000 current gbest score 0.301178337028187026\n",
      "Iteration 1401/2000 current gbest score 0.301178337028186860\n",
      "Iteration 1451/2000 current gbest score 0.301178337028186804\n",
      "Iteration 1501/2000 current gbest score 0.301178337028186804\n",
      "Iteration 1551/2000 current gbest score 0.301178337028186804\n",
      "Iteration 1601/2000 current gbest score 0.301178337028186804\n",
      "Iteration 1651/2000 current gbest score 0.301178337028186804\n",
      "Iteration 1701/2000 current gbest score 0.301178337028186804\n",
      "Iteration 1751/2000 current gbest score 0.301178337028186804\n",
      "Iteration 1801/2000 current gbest score 0.301178337028186804\n",
      "Iteration 1851/2000 current gbest score 0.301178337028186804\n",
      "Iteration 1901/2000 current gbest score 0.301178337028186804\n",
      "Iteration 1951/2000 current gbest score 0.301178337028186804\n",
      "Finish with gbest score 0.301178337028186804\n"
     ]
    }
   ],
   "source": [
    "hist = pso.run()"
   ]
  },
  {
   "cell_type": "code",
   "execution_count": 15,
   "metadata": {},
   "outputs": [],
   "source": [
    "pso_kmeans = KMeans(n_cluster=3, init_pp=False, seed=2018)"
   ]
  },
  {
   "cell_type": "code",
   "execution_count": 16,
   "metadata": {},
   "outputs": [
    {
     "data": {
      "text/plain": [
       "array([[0.12330603, 0.17630162, 0.37177673, 0.18537936, 0.15987898,\n",
       "        0.50104333, 0.2792433 ],\n",
       "       [0.76501534, 0.79977017, 0.71280354, 0.73348157, 0.78058066,\n",
       "        0.35171889, 0.75293528],\n",
       "       [0.37796153, 0.41431241, 0.66858342, 0.36558468, 0.46162616,\n",
       "        0.26123977, 0.31312769]])"
      ]
     },
     "execution_count": 16,
     "metadata": {},
     "output_type": "execute_result"
    }
   ],
   "source": [
    "pso_kmeans.centroid = pso.gbest_centroids.copy()\n",
    "pso_kmeans.centroid"
   ]
  },
  {
   "cell_type": "code",
   "execution_count": 17,
   "metadata": {},
   "outputs": [
    {
     "name": "stdout",
     "output_type": "stream",
     "text": [
      "Silhouette: 0.4221267624201065\n",
      "SSE: 22.08922698059202\n",
      "Quantization: 0.3011783370281868\n"
     ]
    }
   ],
   "source": [
    "predicted_pso = pso_kmeans.predict(x)\n",
    "print('Silhouette:', silhouette_score(x, predicted_pso))\n",
    "print('SSE:', calc_sse(centroids=pso.gbest_centroids, data=x, labels=predicted_pso))\n",
    "print('Quantization:', pso.gbest_score)"
   ]
  },
  {
   "cell_type": "markdown",
   "metadata": {},
   "source": [
    "# Repeated Test"
   ]
  },
  {
   "cell_type": "markdown",
   "metadata": {},
   "source": [
    "### K-Means++"
   ]
  },
  {
   "cell_type": "code",
   "execution_count": 18,
   "metadata": {},
   "outputs": [],
   "source": [
    "kmeanspp = {\n",
    "    'silhouette': [],\n",
    "    'sse' : [],\n",
    "    'quantization' : [],\n",
    "}\n",
    "for _ in range(20):\n",
    "    kmean_rep = KMeans(n_cluster=3, init_pp=True)\n",
    "    kmean_rep.fit(x)\n",
    "    predicted_kmean_rep = kmean_rep.predict(x)\n",
    "    silhouette = silhouette_score(x, predicted_kmean_rep)\n",
    "    sse = kmean_rep.SSE\n",
    "    quantization = quantization_error(centroids=kmean_rep.centroid, data=x, labels=predicted_kmean_rep)\n",
    "    kmeanspp['silhouette'].append(silhouette)\n",
    "    kmeanspp['sse'].append(sse)\n",
    "    kmeanspp['quantization'].append(quantization)"
   ]
  },
  {
   "cell_type": "markdown",
   "metadata": {},
   "source": [
    "### PSO "
   ]
  },
  {
   "cell_type": "code",
   "execution_count": 19,
   "metadata": {},
   "outputs": [
    {
     "name": "stdout",
     "output_type": "stream",
     "text": [
      "Initial global best score 0.3650153381853994\n",
      "Iteration 0001/2000 current gbest score 0.362608003982757554\n",
      "Finish with gbest score 0.326137523748685598\n",
      "Initial global best score 0.38464925715480097\n",
      "Iteration 0001/2000 current gbest score 0.362749587497033066\n",
      "Finish with gbest score 0.337683297694484297\n",
      "Initial global best score 0.36481568471325065\n",
      "Iteration 0001/2000 current gbest score 0.360884665099836688\n"
     ]
    },
    {
     "name": "stderr",
     "output_type": "stream",
     "text": [
      "/home/feyaz/code/particle-swarm-optimized-clustering/particle.py:14: RuntimeWarning: invalid value encountered in double_scalars\n",
      "  dist /= len(idx)\n"
     ]
    },
    {
     "name": "stdout",
     "output_type": "stream",
     "text": [
      "Finish with gbest score 0.321298541949087191\n",
      "Initial global best score 0.35949230833181134\n",
      "Iteration 0001/2000 current gbest score 0.359492308331811339\n",
      "Finish with gbest score 0.332265752015113269\n",
      "Initial global best score 0.33884575008148027\n",
      "Iteration 0001/2000 current gbest score 0.338845750081480268\n",
      "Finish with gbest score 0.320122718474826040\n",
      "Initial global best score 0.3590859732178408\n",
      "Iteration 0001/2000 current gbest score 0.349914890743986129\n"
     ]
    },
    {
     "name": "stderr",
     "output_type": "stream",
     "text": [
      "/home/feyaz/code/particle-swarm-optimized-clustering/particle.py:14: RuntimeWarning: invalid value encountered in double_scalars\n",
      "  dist /= len(idx)\n"
     ]
    },
    {
     "name": "stdout",
     "output_type": "stream",
     "text": [
      "Finish with gbest score 0.320113156507219110\n",
      "Initial global best score 0.34848435998713656\n",
      "Iteration 0001/2000 current gbest score 0.342403380020504911\n",
      "Finish with gbest score 0.310158524491501386\n",
      "Initial global best score 0.360532291537304\n",
      "Iteration 0001/2000 current gbest score 0.356038959978094649\n"
     ]
    },
    {
     "name": "stderr",
     "output_type": "stream",
     "text": [
      "/home/feyaz/code/particle-swarm-optimized-clustering/particle.py:14: RuntimeWarning: invalid value encountered in double_scalars\n",
      "  dist /= len(idx)\n"
     ]
    },
    {
     "name": "stdout",
     "output_type": "stream",
     "text": [
      "Finish with gbest score 0.311932850797551009\n",
      "Initial global best score 0.36537241526792114\n",
      "Iteration 0001/2000 current gbest score 0.365372415267921136\n"
     ]
    },
    {
     "name": "stderr",
     "output_type": "stream",
     "text": [
      "/home/feyaz/code/particle-swarm-optimized-clustering/particle.py:14: RuntimeWarning: invalid value encountered in double_scalars\n",
      "  dist /= len(idx)\n"
     ]
    },
    {
     "name": "stdout",
     "output_type": "stream",
     "text": [
      "Finish with gbest score 0.308955161992045368\n",
      "Initial global best score 0.350315908225822\n",
      "Iteration 0001/2000 current gbest score 0.350315908225821981\n"
     ]
    },
    {
     "name": "stderr",
     "output_type": "stream",
     "text": [
      "/home/feyaz/code/particle-swarm-optimized-clustering/particle.py:14: RuntimeWarning: invalid value encountered in double_scalars\n",
      "  dist /= len(idx)\n"
     ]
    },
    {
     "name": "stdout",
     "output_type": "stream",
     "text": [
      "Finish with gbest score 0.312440037743332955\n",
      "Initial global best score 0.33730252270071254\n",
      "Iteration 0001/2000 current gbest score 0.337302522700712537\n",
      "Finish with gbest score 0.318618850346610472\n",
      "Initial global best score 0.37508365354687606\n",
      "Iteration 0001/2000 current gbest score 0.365776626442698705\n",
      "Finish with gbest score 0.334651269124097872\n",
      "Initial global best score 0.34981696209647817\n",
      "Iteration 0001/2000 current gbest score 0.349816962096478168\n",
      "Finish with gbest score 0.314057344476855793\n",
      "Initial global best score 0.38439747963543125\n",
      "Iteration 0001/2000 current gbest score 0.361812705879800245\n",
      "Finish with gbest score 0.317780346184011464\n",
      "Initial global best score 0.32261556138344893\n",
      "Iteration 0001/2000 current gbest score 0.322615561383448934\n",
      "Finish with gbest score 0.310997414183862730\n",
      "Initial global best score 0.3892315000983044\n",
      "Iteration 0001/2000 current gbest score 0.389006805299056346\n",
      "Finish with gbest score 0.329532918297960276\n",
      "Initial global best score 0.3430575835821275\n",
      "Iteration 0001/2000 current gbest score 0.343057583582127512\n",
      "Finish with gbest score 0.313372702943319037\n",
      "Initial global best score 0.35131745181975793\n",
      "Iteration 0001/2000 current gbest score 0.351317451819757931\n",
      "Finish with gbest score 0.310738503755558948\n",
      "Initial global best score 0.3709096155859395\n",
      "Iteration 0001/2000 current gbest score 0.370909615585939489\n"
     ]
    },
    {
     "name": "stderr",
     "output_type": "stream",
     "text": [
      "/home/feyaz/code/particle-swarm-optimized-clustering/particle.py:14: RuntimeWarning: invalid value encountered in double_scalars\n",
      "  dist /= len(idx)\n"
     ]
    },
    {
     "name": "stdout",
     "output_type": "stream",
     "text": [
      "Finish with gbest score 0.324624866286624625\n",
      "Initial global best score 0.3676757094945322\n",
      "Iteration 0001/2000 current gbest score 0.367675709494532210\n",
      "Finish with gbest score 0.320892940550437489\n",
      "CPU times: user 1min 36s, sys: 9.02 s, total: 1min 45s\n",
      "Wall time: 1min 34s\n"
     ]
    }
   ],
   "source": [
    "%%time\n",
    "pso_plain = {\n",
    "    'silhouette': [],\n",
    "    'sse' : [],\n",
    "    'quantization' : [],\n",
    "}\n",
    "for _ in range(20):\n",
    "    pso_rep = ParticleSwarmOptimizedClustering(\n",
    "        n_cluster=3, n_particles=10, data=x, hybrid=False, max_iter=2000, print_debug=2000)\n",
    "    pso_rep.run()\n",
    "    pso_kmeans = KMeans(n_cluster=3, init_pp=False, seed=2018)\n",
    "    pso_kmeans.centroid = pso_rep.gbest_centroids.copy()\n",
    "    predicted_pso_rep = pso_kmeans.predict(x)\n",
    "    \n",
    "    silhouette = silhouette_score(x, predicted_pso_rep)\n",
    "    sse = calc_sse(centroids=pso_rep.gbest_centroids, data=x, labels=predicted_pso_rep)\n",
    "    quantization = pso_rep.gbest_score\n",
    "    pso_plain['silhouette'].append(silhouette)\n",
    "    pso_plain['sse'].append(sse)\n",
    "    pso_plain['quantization'].append(quantization)"
   ]
  },
  {
   "cell_type": "markdown",
   "metadata": {},
   "source": [
    "### PSO Hybrid"
   ]
  },
  {
   "cell_type": "code",
   "execution_count": 20,
   "metadata": {},
   "outputs": [
    {
     "name": "stdout",
     "output_type": "stream",
     "text": [
      "Initial global best score 0.30155146657476695\n",
      "Iteration 0001/2000 current gbest score 0.301551466574766946\n",
      "Finish with gbest score 0.301154836231899647\n",
      "Initial global best score 0.30166461874754386\n",
      "Iteration 0001/2000 current gbest score 0.301664618747543856\n"
     ]
    },
    {
     "name": "stderr",
     "output_type": "stream",
     "text": [
      "/home/feyaz/code/particle-swarm-optimized-clustering/particle.py:14: RuntimeWarning: invalid value encountered in double_scalars\n",
      "  dist /= len(idx)\n"
     ]
    },
    {
     "name": "stdout",
     "output_type": "stream",
     "text": [
      "Finish with gbest score 0.301260423879870176\n",
      "Initial global best score 0.30155146657476695\n",
      "Iteration 0001/2000 current gbest score 0.301551466574766946\n"
     ]
    },
    {
     "name": "stderr",
     "output_type": "stream",
     "text": [
      "/home/feyaz/code/particle-swarm-optimized-clustering/particle.py:14: RuntimeWarning: invalid value encountered in double_scalars\n",
      "  dist /= len(idx)\n"
     ]
    },
    {
     "name": "stdout",
     "output_type": "stream",
     "text": [
      "Finish with gbest score 0.301135092719994280\n",
      "Initial global best score 0.30166461874754386\n",
      "Iteration 0001/2000 current gbest score 0.301664618747543856\n"
     ]
    },
    {
     "name": "stderr",
     "output_type": "stream",
     "text": [
      "/home/feyaz/code/particle-swarm-optimized-clustering/particle.py:14: RuntimeWarning: invalid value encountered in double_scalars\n",
      "  dist /= len(idx)\n"
     ]
    },
    {
     "name": "stdout",
     "output_type": "stream",
     "text": [
      "Finish with gbest score 0.301156368062323765\n",
      "Initial global best score 0.30166461874754386\n",
      "Iteration 0001/2000 current gbest score 0.301664618747543856\n",
      "Finish with gbest score 0.301131829724883116\n",
      "Initial global best score 0.30166461874754386\n",
      "Iteration 0001/2000 current gbest score 0.301664618747543856\n",
      "Finish with gbest score 0.301362189588276319\n",
      "Initial global best score 0.30166461874754386\n",
      "Iteration 0001/2000 current gbest score 0.301664618747543856\n",
      "Finish with gbest score 0.301102299028291609\n",
      "Initial global best score 0.30155146657476695\n",
      "Iteration 0001/2000 current gbest score 0.301551466574766946\n",
      "Finish with gbest score 0.301140541809194251\n",
      "Initial global best score 0.30166461874754386\n",
      "Iteration 0001/2000 current gbest score 0.301664618747543856\n",
      "Finish with gbest score 0.301247825039121675\n",
      "Initial global best score 0.30166461874754386\n",
      "Iteration 0001/2000 current gbest score 0.301664618747543856\n",
      "Finish with gbest score 0.301380967784858511\n",
      "Initial global best score 0.30166461874754386\n",
      "Iteration 0001/2000 current gbest score 0.301664618747543856\n",
      "Finish with gbest score 0.301186816305305805\n",
      "Initial global best score 0.30166461874754386\n",
      "Iteration 0001/2000 current gbest score 0.301664618747543856\n"
     ]
    },
    {
     "name": "stderr",
     "output_type": "stream",
     "text": [
      "/home/feyaz/code/particle-swarm-optimized-clustering/particle.py:14: RuntimeWarning: invalid value encountered in double_scalars\n",
      "  dist /= len(idx)\n"
     ]
    },
    {
     "name": "stdout",
     "output_type": "stream",
     "text": [
      "Finish with gbest score 0.301285195216301760\n",
      "Initial global best score 0.30166461874754386\n",
      "Iteration 0001/2000 current gbest score 0.301664618747543856\n",
      "Finish with gbest score 0.301248069942525731\n",
      "Initial global best score 0.3438501164401444\n",
      "Iteration 0001/2000 current gbest score 0.343850116440144404\n"
     ]
    },
    {
     "name": "stderr",
     "output_type": "stream",
     "text": [
      "/usr/lib/python3.9/site-packages/numpy/core/fromnumeric.py:3419: RuntimeWarning: Mean of empty slice.\n",
      "  return _methods._mean(a, axis=axis, dtype=dtype,\n",
      "/usr/lib/python3.9/site-packages/numpy/core/_methods.py:180: RuntimeWarning: invalid value encountered in true_divide\n",
      "  ret = um.true_divide(\n",
      "/home/feyaz/code/particle-swarm-optimized-clustering/particle.py:14: RuntimeWarning: invalid value encountered in double_scalars\n",
      "  dist /= len(idx)\n"
     ]
    },
    {
     "name": "stdout",
     "output_type": "stream",
     "text": [
      "Finish with gbest score 0.313518573012841584\n",
      "Initial global best score 0.30166461874754386\n",
      "Iteration 0001/2000 current gbest score 0.301664618747543856\n",
      "Finish with gbest score 0.301151644699240661\n",
      "Initial global best score 0.30166461874754386\n",
      "Iteration 0001/2000 current gbest score 0.301664618747543856\n",
      "Finish with gbest score 0.301361238233388617\n",
      "Initial global best score 0.301551466574767\n",
      "Iteration 0001/2000 current gbest score 0.301551466574767002\n",
      "Finish with gbest score 0.301106338003337193\n",
      "Initial global best score 0.30166461874754386\n",
      "Iteration 0001/2000 current gbest score 0.301664618747543856\n",
      "Finish with gbest score 0.301243525930651235\n",
      "Initial global best score 0.30155146657476695\n",
      "Iteration 0001/2000 current gbest score 0.301551466574766946\n",
      "Finish with gbest score 0.301197879533225410\n",
      "Initial global best score 0.30166461874754386\n",
      "Iteration 0001/2000 current gbest score 0.301664618747543856\n",
      "Finish with gbest score 0.301322454062579181\n",
      "CPU times: user 1min 35s, sys: 9.15 s, total: 1min 45s\n",
      "Wall time: 1min 32s\n"
     ]
    }
   ],
   "source": [
    "%%time\n",
    "pso_hybrid = {\n",
    "    'silhouette': [],\n",
    "    'sse' : [],\n",
    "    'quantization' : [],\n",
    "}\n",
    "for _ in range(20):\n",
    "    pso_rep = ParticleSwarmOptimizedClustering(\n",
    "        n_cluster=3, n_particles=10, data=x, hybrid=True, max_iter=2000, print_debug=2000)\n",
    "    pso_rep.run()\n",
    "    pso_kmeans = KMeans(n_cluster=3, init_pp=False, seed=2018)\n",
    "    pso_kmeans.centroid = pso_rep.gbest_centroids.copy()\n",
    "    predicted_pso_rep = pso_kmeans.predict(x)\n",
    "    \n",
    "    silhouette = silhouette_score(x, predicted_pso_rep)\n",
    "    sse = calc_sse(centroids=pso_rep.gbest_centroids, data=x, labels=predicted_pso_rep)\n",
    "    quantization = pso_rep.gbest_score\n",
    "    pso_hybrid['silhouette'].append(silhouette)\n",
    "    pso_hybrid['sse'].append(sse)\n",
    "    pso_hybrid['quantization'].append(quantization)"
   ]
  },
  {
   "cell_type": "markdown",
   "metadata": {},
   "source": [
    "# Comparison"
   ]
  },
  {
   "cell_type": "code",
   "execution_count": 21,
   "metadata": {},
   "outputs": [],
   "source": [
    "benchmark = {\n",
    "    'method' : ['K-Means++', 'PSO', 'PSO Hybrid'],\n",
    "    'sse_mean' : [\n",
    "        np.around(np.mean(kmeanspp['sse']), decimals=10),\n",
    "        np.around(np.mean(pso_plain['sse']), decimals=10),\n",
    "        np.around(np.mean(pso_hybrid['sse']), decimals=10),\n",
    "    ],\n",
    "    'sse_stdev' : [\n",
    "        np.around(np.std(kmeanspp['sse']), decimals=10),\n",
    "        np.around(np.std(pso_plain['sse']), decimals=10),\n",
    "        np.around(np.std(pso_hybrid['sse']), decimals=10),\n",
    "    ],\n",
    "    'silhouette_mean' : [\n",
    "        np.around(np.mean(kmeanspp['silhouette']), decimals=10),\n",
    "        np.around(np.mean(pso_plain['silhouette']), decimals=10),\n",
    "        np.around(np.mean(pso_hybrid['silhouette']), decimals=10),\n",
    "    ],\n",
    "    'silhouette_stdev' : [\n",
    "        np.around(np.std(kmeanspp['silhouette']), decimals=10),\n",
    "        np.around(np.std(pso_plain['silhouette']), decimals=10),\n",
    "        np.around(np.std(pso_hybrid['silhouette']), decimals=10),\n",
    "    ],\n",
    "    'quantization_mean' : [\n",
    "        np.around(np.mean(kmeanspp['quantization']), decimals=10),\n",
    "        np.around(np.mean(pso_plain['quantization']), decimals=10),\n",
    "        np.around(np.mean(pso_hybrid['quantization']), decimals=10),\n",
    "    ],\n",
    "    'quantization_stdev' : [\n",
    "        np.around(np.std(kmeanspp['quantization']), decimals=10),\n",
    "        np.around(np.std(pso_plain['quantization']), decimals=10),\n",
    "        np.around(np.std(pso_hybrid['quantization']), decimals=10),\n",
    "    ],\n",
    "}"
   ]
  },
  {
   "cell_type": "code",
   "execution_count": 22,
   "metadata": {},
   "outputs": [
    {
     "data": {
      "text/plain": [
       "{'method': ['K-Means++', 'PSO', 'PSO Hybrid'],\n",
       " 'sse_mean': [22.0245718908, 26.8100429723, 22.1722081422],\n",
       " 'sse_stdev': [0.0006264453, 4.1065503521, 0.4407198128],\n",
       " 'silhouette_mean': [0.4221074074, 0.3872134749, 0.4216918578],\n",
       " 'silhouette_stdev': [6.4517e-06, 0.0390602608, 0.0018957055],\n",
       " 'quantization_mean': [0.3016533035, 0.3198187361, 0.3018347054],\n",
       " 'quantization_stdev': [3.39457e-05, 0.0084367183, 0.0026818356]}"
      ]
     },
     "execution_count": 22,
     "metadata": {},
     "output_type": "execute_result"
    }
   ],
   "source": [
    "benchmark"
   ]
  },
  {
   "cell_type": "code",
   "execution_count": 23,
   "metadata": {},
   "outputs": [
    {
     "data": {
      "text/html": [
       "<div>\n",
       "<style scoped>\n",
       "    .dataframe tbody tr th:only-of-type {\n",
       "        vertical-align: middle;\n",
       "    }\n",
       "\n",
       "    .dataframe tbody tr th {\n",
       "        vertical-align: top;\n",
       "    }\n",
       "\n",
       "    .dataframe thead th {\n",
       "        text-align: right;\n",
       "    }\n",
       "</style>\n",
       "<table border=\"1\" class=\"dataframe\">\n",
       "  <thead>\n",
       "    <tr style=\"text-align: right;\">\n",
       "      <th></th>\n",
       "      <th>method</th>\n",
       "      <th>sse_mean</th>\n",
       "      <th>sse_stdev</th>\n",
       "      <th>silhouette_mean</th>\n",
       "      <th>silhouette_stdev</th>\n",
       "      <th>quantization_mean</th>\n",
       "      <th>quantization_stdev</th>\n",
       "    </tr>\n",
       "  </thead>\n",
       "  <tbody>\n",
       "    <tr>\n",
       "      <th>0</th>\n",
       "      <td>K-Means++</td>\n",
       "      <td>22.024572</td>\n",
       "      <td>0.000626</td>\n",
       "      <td>0.422107</td>\n",
       "      <td>0.000006</td>\n",
       "      <td>0.301653</td>\n",
       "      <td>0.000034</td>\n",
       "    </tr>\n",
       "    <tr>\n",
       "      <th>1</th>\n",
       "      <td>PSO</td>\n",
       "      <td>26.810043</td>\n",
       "      <td>4.106550</td>\n",
       "      <td>0.387213</td>\n",
       "      <td>0.039060</td>\n",
       "      <td>0.319819</td>\n",
       "      <td>0.008437</td>\n",
       "    </tr>\n",
       "    <tr>\n",
       "      <th>2</th>\n",
       "      <td>PSO Hybrid</td>\n",
       "      <td>22.172208</td>\n",
       "      <td>0.440720</td>\n",
       "      <td>0.421692</td>\n",
       "      <td>0.001896</td>\n",
       "      <td>0.301835</td>\n",
       "      <td>0.002682</td>\n",
       "    </tr>\n",
       "  </tbody>\n",
       "</table>\n",
       "</div>"
      ],
      "text/plain": [
       "       method   sse_mean  sse_stdev  silhouette_mean  silhouette_stdev  \\\n",
       "0   K-Means++  22.024572   0.000626         0.422107          0.000006   \n",
       "1         PSO  26.810043   4.106550         0.387213          0.039060   \n",
       "2  PSO Hybrid  22.172208   0.440720         0.421692          0.001896   \n",
       "\n",
       "   quantization_mean  quantization_stdev  \n",
       "0           0.301653            0.000034  \n",
       "1           0.319819            0.008437  \n",
       "2           0.301835            0.002682  "
      ]
     },
     "execution_count": 23,
     "metadata": {},
     "output_type": "execute_result"
    }
   ],
   "source": [
    "benchmark_df = pd.DataFrame.from_dict(benchmark)\n",
    "benchmark_df"
   ]
  },
  {
   "cell_type": "code",
   "execution_count": 24,
   "metadata": {},
   "outputs": [
    {
     "ename": "ModuleNotFoundError",
     "evalue": "No module named 'openpyxl'",
     "output_type": "error",
     "traceback": [
      "\u001b[0;31m---------------------------------------------------------------------------\u001b[0m",
      "\u001b[0;31mModuleNotFoundError\u001b[0m                       Traceback (most recent call last)",
      "\u001b[0;32m<ipython-input-24-ade16605c84c>\u001b[0m in \u001b[0;36m<module>\u001b[0;34m\u001b[0m\n\u001b[0;32m----> 1\u001b[0;31m \u001b[0mbenchmark_df\u001b[0m\u001b[0;34m.\u001b[0m\u001b[0mto_excel\u001b[0m\u001b[0;34m(\u001b[0m\u001b[0;34m'benchmark_res.xlsx'\u001b[0m\u001b[0;34m,\u001b[0m \u001b[0mindex\u001b[0m\u001b[0;34m=\u001b[0m\u001b[0;32mFalse\u001b[0m\u001b[0;34m)\u001b[0m\u001b[0;34m\u001b[0m\u001b[0;34m\u001b[0m\u001b[0m\n\u001b[0m",
      "\u001b[0;32m/usr/lib/python3.9/site-packages/pandas/core/generic.py\u001b[0m in \u001b[0;36mto_excel\u001b[0;34m(self, excel_writer, sheet_name, na_rep, float_format, columns, header, index, index_label, startrow, startcol, engine, merge_cells, encoding, inf_rep, verbose, freeze_panes, storage_options)\u001b[0m\n\u001b[1;32m   2187\u001b[0m             \u001b[0minf_rep\u001b[0m\u001b[0;34m=\u001b[0m\u001b[0minf_rep\u001b[0m\u001b[0;34m,\u001b[0m\u001b[0;34m\u001b[0m\u001b[0;34m\u001b[0m\u001b[0m\n\u001b[1;32m   2188\u001b[0m         )\n\u001b[0;32m-> 2189\u001b[0;31m         formatter.write(\n\u001b[0m\u001b[1;32m   2190\u001b[0m             \u001b[0mexcel_writer\u001b[0m\u001b[0;34m,\u001b[0m\u001b[0;34m\u001b[0m\u001b[0;34m\u001b[0m\u001b[0m\n\u001b[1;32m   2191\u001b[0m             \u001b[0msheet_name\u001b[0m\u001b[0;34m=\u001b[0m\u001b[0msheet_name\u001b[0m\u001b[0;34m,\u001b[0m\u001b[0;34m\u001b[0m\u001b[0;34m\u001b[0m\u001b[0m\n",
      "\u001b[0;32m/usr/lib/python3.9/site-packages/pandas/io/formats/excel.py\u001b[0m in \u001b[0;36mwrite\u001b[0;34m(self, writer, sheet_name, startrow, startcol, freeze_panes, engine, storage_options)\u001b[0m\n\u001b[1;32m    813\u001b[0m             \u001b[0;31m# abstract class 'ExcelWriter' with abstract attributes 'engine',\u001b[0m\u001b[0;34m\u001b[0m\u001b[0;34m\u001b[0m\u001b[0;34m\u001b[0m\u001b[0m\n\u001b[1;32m    814\u001b[0m             \u001b[0;31m# 'save', 'supported_extensions' and 'write_cells'  [abstract]\u001b[0m\u001b[0;34m\u001b[0m\u001b[0;34m\u001b[0m\u001b[0;34m\u001b[0m\u001b[0m\n\u001b[0;32m--> 815\u001b[0;31m             writer = ExcelWriter(  # type: ignore[abstract]\n\u001b[0m\u001b[1;32m    816\u001b[0m                 \u001b[0mwriter\u001b[0m\u001b[0;34m,\u001b[0m \u001b[0mengine\u001b[0m\u001b[0;34m=\u001b[0m\u001b[0mengine\u001b[0m\u001b[0;34m,\u001b[0m \u001b[0mstorage_options\u001b[0m\u001b[0;34m=\u001b[0m\u001b[0mstorage_options\u001b[0m\u001b[0;34m\u001b[0m\u001b[0;34m\u001b[0m\u001b[0m\n\u001b[1;32m    817\u001b[0m             )\n",
      "\u001b[0;32m/usr/lib/python3.9/site-packages/pandas/io/excel/_openpyxl.py\u001b[0m in \u001b[0;36m__init__\u001b[0;34m(self, path, engine, mode, storage_options, **engine_kwargs)\u001b[0m\n\u001b[1;32m     28\u001b[0m     ):\n\u001b[1;32m     29\u001b[0m         \u001b[0;31m# Use the openpyxl module as the Excel writer.\u001b[0m\u001b[0;34m\u001b[0m\u001b[0;34m\u001b[0m\u001b[0;34m\u001b[0m\u001b[0m\n\u001b[0;32m---> 30\u001b[0;31m         \u001b[0;32mfrom\u001b[0m \u001b[0mopenpyxl\u001b[0m\u001b[0;34m.\u001b[0m\u001b[0mworkbook\u001b[0m \u001b[0;32mimport\u001b[0m \u001b[0mWorkbook\u001b[0m\u001b[0;34m\u001b[0m\u001b[0;34m\u001b[0m\u001b[0m\n\u001b[0m\u001b[1;32m     31\u001b[0m \u001b[0;34m\u001b[0m\u001b[0m\n\u001b[1;32m     32\u001b[0m         super().__init__(\n",
      "\u001b[0;31mModuleNotFoundError\u001b[0m: No module named 'openpyxl'"
     ]
    }
   ],
   "source": [
    "benchmark_df.to_excel('benchmark_res.xlsx', index=False)"
   ]
  },
  {
   "cell_type": "code",
   "execution_count": null,
   "metadata": {},
   "outputs": [],
   "source": [
    "benchmark_df.to_csv('benchmark_res.csv', index=False)"
   ]
  },
  {
   "cell_type": "code",
   "execution_count": null,
   "metadata": {},
   "outputs": [],
   "source": []
  }
 ],
 "metadata": {
  "kernelspec": {
   "display_name": "Python 3",
   "language": "python",
   "name": "python3"
  },
  "language_info": {
   "codemirror_mode": {
    "name": "ipython",
    "version": 3
   },
   "file_extension": ".py",
   "mimetype": "text/x-python",
   "name": "python",
   "nbconvert_exporter": "python",
   "pygments_lexer": "ipython3",
   "version": "3.9.3"
  }
 },
 "nbformat": 4,
 "nbformat_minor": 2
}
